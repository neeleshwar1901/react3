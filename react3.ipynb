{
  "nbformat": 4,
  "nbformat_minor": 0,
  "metadata": {
    "colab": {
      "provenance": []
    },
    "kernelspec": {
      "name": "python3",
      "display_name": "Python 3"
    },
    "language_info": {
      "name": "python"
    }
  },
  "cells": [
    {
      "cell_type": "markdown",
      "source": [
        "Q1.Discuss the concept of hooks in React. Explain how they differ from class component lifecycle methods. Also,\n",
        "provide an example"
      ],
      "metadata": {
        "id": "KwaLqCvAIWba"
      }
    },
    {
      "cell_type": "markdown",
      "source": [
        "React Hooks are functions introduced in React 16.8 that allow developers to use state and other React features inside functional components, eliminating the need to write class components. Unlike class components, which rely on lifecycle methods like componentDidMount, componentDidUpdate, and componentWillUnmount to manage side effects and component state, Hooks provide a more straightforward and flexible approach. For example, the useState hook enables state management within a function component, while useEffect serves to handle side effects and lifecycle events in a single, unified way. This makes the code more concise, easier to read, and promotes better reuse of logic through custom hooks. Compared to class components, Hooks reduce boilerplate code, avoid the complexities of this binding, and allow related logic to be grouped together instead of being spread across multiple lifecycle methods. For instance, a counter component built with class components requires setting up state in the constructor and managing lifecycle methods, whereas the same functionality can be achieved in a functional component with just useState to track the count and useEffect for side effects. Overall, Hooks modernize React development by making components simpler, more modular, and more maintainable"
      ],
      "metadata": {
        "id": "nnCaCiWNIdIX"
      }
    },
    {
      "cell_type": "markdown",
      "source": [
        "Example: Counter with Class vs. Hooks\n",
        "\n",
        "Class Component using Lifecycle Methods:"
      ],
      "metadata": {
        "id": "OxlFiZDrJktD"
      }
    },
    {
      "cell_type": "code",
      "source": [
        "import React, { Component } from 'react';\n",
        "\n",
        "class Counter extends Component {\n",
        "  constructor(props) {\n",
        "    super(props);\n",
        "    this.state = { count: 0 };\n",
        "  }\n",
        "\n",
        "  componentDidMount() {\n",
        "    console.log('Component mounted');\n",
        "  }\n",
        "\n",
        "  componentDidUpdate() {\n",
        "    console.log('Component updated');\n",
        "  }\n",
        "\n",
        "  increment = () => {\n",
        "    this.setState({ count: this.state.count + 1 });\n",
        "  };\n",
        "\n",
        "  render() {\n",
        "    return (\n",
        "      <div>\n",
        "        <p>Count: {this.state.count}</p>\n",
        "        <button onClick={this.increment}>Increment</button>\n",
        "      </div>\n",
        "    );\n",
        "  }\n",
        "}"
      ],
      "metadata": {
        "id": "G0DPTBG1JQ9x"
      },
      "execution_count": null,
      "outputs": []
    },
    {
      "cell_type": "markdown",
      "source": [
        "Functional Component with Hooks:"
      ],
      "metadata": {
        "id": "zsFAKmWtJZ1E"
      }
    },
    {
      "cell_type": "code",
      "source": [
        "import React, { useState, useEffect } from 'react';\n",
        "\n",
        "function Counter() {\n",
        "  const [count, setCount] = useState(0);\n",
        "\n",
        "  useEffect(() => {\n",
        "    console.log('Component mounted or updated');\n",
        "  });\n",
        "\n",
        "  const increment = () => {\n",
        "    setCount(count + 1);\n",
        "  };\n",
        "\n",
        "  return (\n",
        "    <div>\n",
        "      <p>Count: {count}</p>\n",
        "      <button onClick={increment}>Increment</button>\n",
        "    </div>\n",
        "  );\n",
        "}\n"
      ],
      "metadata": {
        "id": "xehgI_Z0JWMp"
      },
      "execution_count": null,
      "outputs": []
    },
    {
      "cell_type": "markdown",
      "source": [
        "Q2.Explain and discuss its syntax, purpose, and how it manages state in functional components for the\n",
        "following hook\n",
        "\n",
        "->useState\n",
        "\n",
        "->useEffect"
      ],
      "metadata": {
        "id": "ntmVbzWrJy85"
      }
    },
    {
      "cell_type": "markdown",
      "source": [
        "Usestate Purpose:\n",
        "useState is a React hook that lets functional components have state variables. It replaces the need for class components’ this.state and this.setState. You call useState with an initial value, and it returns an array containing the current state and a function to update that state.\n",
        "\n",
        "How it manages state:\n",
        "\n",
        "The first element (state) holds the current value of the state variable.\n",
        "\n",
        "The second element (setState) is a function used to update the state.\n",
        "\n",
        "When you call setState with a new value, React re-renders the component with the updated state.\n",
        "\n",
        "Syntax:"
      ],
      "metadata": {
        "id": "4Mf_TODTKE44"
      }
    },
    {
      "cell_type": "code",
      "source": [
        "const [state, setState] = useState(initialValue);"
      ],
      "metadata": {
        "id": "O8caY5dLKPs_"
      },
      "execution_count": null,
      "outputs": []
    },
    {
      "cell_type": "markdown",
      "source": [
        "UseEffect Purpose:\n",
        "useEffect allows functional components to perform side effects such as data fetching, subscriptions, or manually manipulating the DOM. It combines the behavior of several class lifecycle methods: componentDidMount, componentDidUpdate, and componentWillUnmount.\n",
        "\n",
        "How it manages side effects:\n",
        "\n",
        "The function passed to useEffect runs after every render by default.\n",
        "\n",
        "The optional dependency array controls when the effect runs:\n",
        "\n",
        "If empty ([]), the effect runs once after the initial render (like componentDidMount).\n",
        "\n",
        "If it contains variables, the effect runs only when those variables change.\n",
        "\n",
        "The return function inside useEffect is for cleanup (like unsubscribing or clearing timers) and runs before the component unmounts or before the next effect runs."
      ],
      "metadata": {
        "id": "n7_3DNg2KTMu"
      }
    },
    {
      "cell_type": "code",
      "source": [
        "useEffect(() => {\n",
        "  // effect code here (e.g., fetching data, subscriptions)\n",
        "\n",
        "  return () => {\n",
        "    // optional cleanup code here\n",
        "  };\n",
        "}, [dependencies]);\n"
      ],
      "metadata": {
        "id": "Odoh9LDoKmPB"
      },
      "execution_count": null,
      "outputs": []
    },
    {
      "cell_type": "markdown",
      "source": [
        "Q3.Explain the concept of custom hooks in React, Provide one example scenario of when and how custom hooks\n",
        "can be useful, and also provide the code."
      ],
      "metadata": {
        "id": "63ycR2mOKpbw"
      }
    },
    {
      "cell_type": "markdown",
      "source": [
        "Custom hooks in React are reusable functions that let you extract and share stateful logic across multiple functional components. They allow you to encapsulate common behavior—like data fetching, form handling, or subscriptions—in a clean, reusable way without repeating code. Custom hooks follow the naming convention of starting with \"use\" and internally can use built-in hooks like useState, useEffect, or others.\n",
        "\n",
        "magine you have multiple components that need to fetch data from an API and handle loading and error states. Instead of duplicating that logic in every component, you can create a custom hook (e.g., useFetch) that centralizes this behavior. This makes your code DRY (Don't Repeat Yourself), easier to maintain, and more readable.\n",
        "\n"
      ],
      "metadata": {
        "id": "QOxZTBrHK-Ao"
      }
    },
    {
      "cell_type": "code",
      "source": [
        "import { useState, useEffect } from 'react';\n",
        "\n",
        "function useFetch(url) {\n",
        "  const [data, setData] = useState(null);\n",
        "  const [loading, setLoading] = useState(true);\n",
        "  const [error, setError] = useState(null);\n",
        "\n",
        "  useEffect(() => {\n",
        "    setLoading(true);\n",
        "    setError(null);\n",
        "\n",
        "    fetch(url)\n",
        "      .then((response) => {\n",
        "        if (!response.ok) {\n",
        "          throw new Error('Network response was not ok');\n",
        "        }\n",
        "        return response.json();\n",
        "      })\n",
        "      .then((jsonData) => {\n",
        "        setData(jsonData);\n",
        "        setLoading(false);\n",
        "      })\n",
        "      .catch((err) => {\n",
        "        setError(err.message);\n",
        "        setLoading(false);\n",
        "      });\n",
        "  }, [url]);\n",
        "\n",
        "  return { data, loading, error };\n",
        "}\n",
        "\n",
        "export default useFetch;"
      ],
      "metadata": {
        "id": "rcce0-jxLDIY"
      },
      "execution_count": null,
      "outputs": []
    },
    {
      "cell_type": "markdown",
      "source": [
        "Q4.Explore ways to optimize performance in React using hooks."
      ],
      "metadata": {
        "id": "-rFuyrc2LYZJ"
      }
    },
    {
      "cell_type": "markdown",
      "source": [
        "Optimizing performance in React using hooks involves leveraging specific hooks and patterns that reduce unnecessary re-renders, memoize expensive computations, and manage side effects efficiently. Here are key ways to optimize React apps with hooks:\n",
        "\n",
        "\n",
        "useMemo — Memoize Expensive Calculations\n",
        "Purpose: Caches the result of a calculation and recomputes it only when dependencies change.\n",
        "\n",
        "Benefit: Prevents expensive computations on every render.\n",
        "\n",
        "useCallback — Memoize Functions\n",
        "Purpose: Returns a memoized version of a callback function that only changes if dependencies change.\n",
        "\n",
        "Benefit: Prevents unnecessary re-creation of functions that cause child components to re-render.\n",
        "\n",
        "React.memo — Memoize Components\n",
        "Purpose: Wraps a component to prevent re-rendering unless props change.\n",
        "\n",
        "Benefit: Reduces rendering of pure functional components when props remain the same.\n",
        "\n",
        "useEffect Dependency Management\n",
        "Avoid unnecessary side effect executions by carefully specifying dependencies in useEffect.\n",
        "\n",
        "Use empty dependency array [] to run effects once (like componentDidMount).\n",
        "\n",
        "Avoid including unnecessary dependencies that trigger re-renders.\n",
        "\n",
        "\n",
        "Instead of storing all state in a single object, split state into multiple smaller states using multiple useState calls.\n",
        "\n",
        "This prevents unrelated state updates from triggering re-renders of components that don't depend on those parts of state."
      ],
      "metadata": {
        "id": "e_l50W3ALiYk"
      }
    },
    {
      "cell_type": "markdown",
      "source": [
        "Q5.Implement a global state management system using the Context API and useContext hook. Create providers\n",
        "and consumers for different contexts."
      ],
      "metadata": {
        "id": "yhDhVz84L5g3"
      }
    },
    {
      "cell_type": "code",
      "source": [
        "import React, { createContext, useState, useContext } from 'react';\n",
        "import ReactDOM from 'react-dom/client';\n",
        "\n",
        "const AuthContext = createContext();\n",
        "const ThemeContext = createContext();\n",
        "\n",
        "\n",
        "const AuthProvider = ({ children }) => {\n",
        "  const [user, setUser] = useState(null);\n",
        "\n",
        "  const login = (username) => setUser({ name: username });\n",
        "  const logout = () => setUser(null);\n",
        "\n",
        "  return (\n",
        "    <AuthContext.Provider value={{ user, login, logout }}>\n",
        "      {children}\n",
        "    </AuthContext.Provider>\n",
        "  );\n",
        "};\n",
        "\n",
        "const ThemeProvider = ({ children }) => {\n",
        "  const [theme, setTheme] = useState('light');\n",
        "\n",
        "  const toggleTheme = () =>\n",
        "    setTheme((prev) => (prev === 'light' ? 'dark' : 'light'));\n",
        "\n",
        "  return (\n",
        "    <ThemeContext.Provider value={{ theme, toggleTheme }}>\n",
        "      {children}\n",
        "    </ThemeContext.Provider>\n",
        "  );\n",
        "};\n",
        "\n",
        "\n",
        "const useAuth = () => useContext(AuthContext);\n",
        "const useTheme = () => useContext(ThemeContext);\n",
        "\n",
        "/\n",
        "const UserProfile = () => {\n",
        "  const { user, login, logout } = useAuth();\n",
        "\n",
        "  return (\n",
        "    <div>\n",
        "      {user ? (\n",
        "        <>\n",
        "          <p>Welcome, {user.name}!</p>\n",
        "          <button onClick={logout}>Logout</button>\n",
        "        </>\n",
        "      ) : (\n",
        "        <button onClick={() => login('Alice')}>Login as Alice</button>\n",
        "      )}\n",
        "    </div>\n",
        "  );\n",
        "};\n",
        "\n",
        "const ThemeSwitcher = () => {\n",
        "  const { theme, toggleTheme } = useTheme();\n",
        "\n",
        "  return (\n",
        "    <div>\n",
        "      <p>Current theme: {theme}</p>\n",
        "      <button onClick={toggleTheme}>Toggle Theme</button>\n",
        "    </div>\n",
        "  );\n",
        "};\n",
        "\n",
        "\n",
        "const App = () => {\n",
        "  return (\n",
        "    <AuthProvider>\n",
        "      <ThemeProvider>\n",
        "        <div style={{ padding: 20 }}>\n",
        "          <UserProfile />\n",
        "          <ThemeSwitcher />\n",
        "        </div>\n",
        "      </ThemeProvider>\n",
        "    </AuthProvider>\n",
        "  );\n",
        "};\n",
        "\n",
        "// Render the app\n",
        "const root = ReactDOM.createRoot(document.getElementById('root'));\n",
        "root.render(<App />);\n"
      ],
      "metadata": {
        "id": "_nbgaW32MWCw"
      },
      "execution_count": null,
      "outputs": []
    }
  ]
}